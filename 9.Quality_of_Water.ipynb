{
  "nbformat": 4,
  "nbformat_minor": 0,
  "metadata": {
    "colab": {
      "provenance": []
    },
    "kernelspec": {
      "name": "python3",
      "display_name": "Python 3"
    },
    "language_info": {
      "name": "python"
    }
  },
  "cells": [
    {
      "cell_type": "code",
      "execution_count": null,
      "metadata": {
        "id": "NCCWWNZJWn9P"
      },
      "outputs": [],
      "source": [
        "import numpy as np\n",
        "import pandas as pd"
      ]
    },
    {
      "cell_type": "code",
      "source": [
        "from google.colab import files\n",
        "upload = files.upload()"
      ],
      "metadata": {
        "id": "qgEJxnWQWsVR"
      },
      "execution_count": null,
      "outputs": []
    },
    {
      "cell_type": "code",
      "source": [
        "data=pd.read_csv('water_dataX.csv',encoding = \"ISO-8859-1\")\n",
        "data.replace('NAN',0)"
      ],
      "metadata": {
        "id": "_xKpbFPGW0Q5"
      },
      "execution_count": null,
      "outputs": []
    },
    {
      "cell_type": "code",
      "source": [
        "data.dtypes"
      ],
      "metadata": {
        "id": "AeyUCfwcW9N-"
      },
      "execution_count": null,
      "outputs": []
    },
    {
      "cell_type": "code",
      "source": [
        "data.columns = ['station','location','state','temp','do','ph','con','bod','nn','fc','tc','year']\n",
        "data"
      ],
      "metadata": {
        "id": "YQxIcVB-W-pG"
      },
      "execution_count": null,
      "outputs": []
    },
    {
      "cell_type": "code",
      "source": [
        "data['temp']=pd.to_numeric(data['temp'],errors='coerce')\n",
        "data['do']=pd.to_numeric(data['do'],errors='coerce')\n",
        "data['ph']=pd.to_numeric(data['ph'],errors='coerce')\n",
        "data['bod']=pd.to_numeric(data['bod'],errors='coerce')\n",
        "data['con']=pd.to_numeric(data['con'],errors='coerce')\n",
        "data['nn']=pd.to_numeric(data['nn'],errors='coerce')\n",
        "data['tc']=pd.to_numeric(data['tc'],errors='coerce')\n",
        "data.dtypes"
      ],
      "metadata": {
        "id": "xczsbuprX4Px"
      },
      "execution_count": null,
      "outputs": []
    },
    {
      "cell_type": "code",
      "source": [
        "data.shape"
      ],
      "metadata": {
        "id": "SDWX6lo-YeWY"
      },
      "execution_count": null,
      "outputs": []
    },
    {
      "cell_type": "code",
      "source": [
        "data.columns = ['station','location','state','temp','do','ph','con','bod','nn','fc','tc','year']\n",
        "data"
      ],
      "metadata": {
        "id": "CdQ-KKC4YxTw"
      },
      "execution_count": null,
      "outputs": []
    },
    {
      "cell_type": "code",
      "source": [
        "data.tail()"
      ],
      "metadata": {
        "id": "kNp1-TASZqQB"
      },
      "execution_count": null,
      "outputs": []
    },
    {
      "cell_type": "code",
      "source": [
        "data['npH']=data.ph.apply(lambda x: (100 if (8.5>=x>=7)\n",
        "                                 else(80 if(8.6>=x>=8.5) or (6.9>=x>=6.8)\n",
        "                                 else(60 if(8.8>=x>=8.6) or (6.8>=x>=6.7)\n",
        "                                 else(40 if(9>=x>=8.8) or (6.7>=x>=6.5)\n",
        "                                 else 0)))))"
      ],
      "metadata": {
        "id": "KUptki9RaSj0"
      },
      "execution_count": null,
      "outputs": []
    },
    {
      "cell_type": "code",
      "source": [
        "data['ndo']=data.do.apply(lambda x: (100 if (x>=6)\n",
        "                                 else(80 if(6>=x>=5.1)\n",
        "                                 else(60 if(5>=x>=4.1)\n",
        "                                 else(40 if(4>=x>=3)\n",
        "                                 else 0)))))"
      ],
      "metadata": {
        "id": "JSmLBJuUbroQ"
      },
      "execution_count": null,
      "outputs": []
    },
    {
      "cell_type": "code",
      "source": [
        "data['nco']=data.tc.apply(lambda x: (100 if (5>=x>=0)\n",
        "                                 else(80 if(50>=x>=5)\n",
        "                                 else(60 if(500>=x>=50)\n",
        "                                 else(40 if(10000>=x>=500)\n",
        "                                 else 0)))))"
      ],
      "metadata": {
        "id": "Ka41YPUFcZOP"
      },
      "execution_count": null,
      "outputs": []
    },
    {
      "cell_type": "code",
      "source": [
        "data['nbdo']=data.bod.apply(lambda x: (100 if (3>=x>=0)\n",
        "                                 else(80 if(6>=x>=3)\n",
        "                                 else(60 if(80>=x>=6)\n",
        "                                 else(40 if(125>=x>=80)\n",
        "                                 else 0)))))"
      ],
      "metadata": {
        "id": "k5vQSwzkczPo"
      },
      "execution_count": null,
      "outputs": []
    },
    {
      "cell_type": "code",
      "source": [
        "data['nec']=data.con.apply(lambda x: (100 if (75>=x>=0)\n",
        "                                 else(80 if(150>=x>=75)\n",
        "                                 else(60 if(225>=x>=150)\n",
        "                                 else(40 if(300>=x>=225)\n",
        "                                 else 0)))))"
      ],
      "metadata": {
        "id": "4dQEfcbId35H"
      },
      "execution_count": null,
      "outputs": []
    },
    {
      "cell_type": "code",
      "source": [
        "data['nna']=data.nn.apply(lambda x: (100 if (20>=x>=0)\n",
        "                                 else(80 if(50>=x>=20)\n",
        "                                 else(60 if(100>=x>=50)\n",
        "                                 else(40 if(200>=x>=100)\n",
        "                                 else 0)))))\n",
        "\n",
        "data.head()\n",
        "data.dtypes"
      ],
      "metadata": {
        "id": "Jukfs4XEePon"
      },
      "execution_count": null,
      "outputs": []
    },
    {
      "cell_type": "code",
      "source": [
        "data['wph']=data.npH * 0.165\n",
        "data['wdo']=data.ndo * 0.281\n",
        "data['wbdo']=data.nbdo * 0.234\n",
        "data['wec']=data.nec * 0.009\n",
        "data['wna']=data.nna * 0.028\n",
        "data['wco']=data.nco * 0.281\n",
        "data['wqi']=data.wph+data.wdo+data.wbdo+data.wec+data.wna+data.wco\n",
        "data"
      ],
      "metadata": {
        "id": "NR-tT5RCetjo"
      },
      "execution_count": null,
      "outputs": []
    },
    {
      "cell_type": "code",
      "source": [
        "ag=data.groupby('year')['wqi'].mean()"
      ],
      "metadata": {
        "id": "PDZhu52_gCou"
      },
      "execution_count": null,
      "outputs": []
    },
    {
      "cell_type": "code",
      "source": [
        "type(ag)\n",
        "ag"
      ],
      "metadata": {
        "id": "X4B_ncXcgJfF"
      },
      "execution_count": null,
      "outputs": []
    },
    {
      "cell_type": "code",
      "source": [
        "data=ag.reset_index(level=0)\n",
        "type(data)"
      ],
      "metadata": {
        "id": "yNyuWKdNhPnn"
      },
      "execution_count": null,
      "outputs": []
    },
    {
      "cell_type": "code",
      "source": [
        "data"
      ],
      "metadata": {
        "id": "kAw7C4o8hUAX"
      },
      "execution_count": null,
      "outputs": []
    },
    {
      "cell_type": "code",
      "source": [
        "from sklearn.linear_model import LinearRegression\n",
        "from sklearn.model_selection import train_test_split"
      ],
      "metadata": {
        "id": "Sy8wAjSWhUrQ"
      },
      "execution_count": null,
      "outputs": []
    },
    {
      "cell_type": "code",
      "source": [
        "y=data['wqi']\n",
        "x=data[['year']]"
      ],
      "metadata": {
        "id": "ND7LElxzhlN_"
      },
      "execution_count": null,
      "outputs": []
    },
    {
      "cell_type": "code",
      "source": [
        "reg=LinearRegression()\n",
        "x_train,x_test,y_train,y_test = train_test_split(x,y,test_size=0.2,random_state=4)\n",
        "print(x_train)\n",
        "print(y_train)"
      ],
      "metadata": {
        "id": "oFElmpxkifP_"
      },
      "execution_count": null,
      "outputs": []
    },
    {
      "cell_type": "code",
      "source": [
        "reg.fit(x_train,y_train)"
      ],
      "metadata": {
        "id": "SGKU19Xfi1gP"
      },
      "execution_count": null,
      "outputs": []
    },
    {
      "cell_type": "code",
      "source": [
        "print(x_test)\n",
        "a=reg.predict(x_test)\n",
        "a"
      ],
      "metadata": {
        "id": "zjPg_h1di3we"
      },
      "execution_count": null,
      "outputs": []
    },
    {
      "cell_type": "code",
      "source": [
        "y_test"
      ],
      "metadata": {
        "id": "qtKXfO6mjP3P"
      },
      "execution_count": null,
      "outputs": []
    },
    {
      "cell_type": "code",
      "source": [
        "from sklearn.metrics import mean_squared_error\n",
        "print('mse:%.2f'%mean_squared_error(y_test,a))"
      ],
      "metadata": {
        "id": "2c35jzl6jnFA"
      },
      "execution_count": null,
      "outputs": []
    },
    {
      "cell_type": "code",
      "source": [
        "import matplotlib.pyplot as plt\n",
        "x_axis = data[['year']]\n",
        "y_axis = data.wqi\n",
        "y1_axis = reg.predict(x_axis)\n",
        "plt.scatter(x_axis,y_axis)\n",
        "plt.plot(x_axis,y1_axis,color='r')\n",
        "plt.title(\"linear regression\")\n",
        "\n",
        "plt.show()"
      ],
      "metadata": {
        "id": "VxhV7KtHjxGX"
      },
      "execution_count": null,
      "outputs": []
    }
  ]
}