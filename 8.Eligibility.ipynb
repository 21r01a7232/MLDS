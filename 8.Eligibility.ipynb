{
  "nbformat": 4,
  "nbformat_minor": 0,
  "metadata": {
    "colab": {
      "provenance": [],
      "authorship_tag": "ABX9TyOZ/txJdBBhkLUqBZK4kHrs"
    },
    "kernelspec": {
      "name": "python3",
      "display_name": "Python 3"
    },
    "language_info": {
      "name": "python"
    }
  },
  "cells": [
    {
      "cell_type": "code",
      "execution_count": null,
      "metadata": {
        "id": "4i2h2EHjJXJF"
      },
      "outputs": [],
      "source": [
        "import pandas as pd\n",
        "import numpy as np\n",
        "import seaborn as sns\n",
        "import matplotlib.pyplot as plt\n",
        "from google.colab import files\n",
        "uploaded = files.upload()"
      ]
    },
    {
      "cell_type": "code",
      "source": [
        "train = pd.read_csv(\"train.csv\")\n",
        "train.head()"
      ],
      "metadata": {
        "id": "EptYa9xwLLwz"
      },
      "execution_count": null,
      "outputs": []
    },
    {
      "cell_type": "code",
      "source": [
        "test = pd.read_csv(\"test.csv\")\n",
        "test.head()"
      ],
      "metadata": {
        "id": "N-dUq-_HLYRv"
      },
      "execution_count": null,
      "outputs": []
    },
    {
      "cell_type": "code",
      "source": [
        "train.columns"
      ],
      "metadata": {
        "id": "18CSL9GPLeUG"
      },
      "execution_count": null,
      "outputs": []
    },
    {
      "cell_type": "code",
      "source": [
        "print(train.shape, test.shape)"
      ],
      "metadata": {
        "id": "8TyREV2mLggN"
      },
      "execution_count": null,
      "outputs": []
    },
    {
      "cell_type": "code",
      "source": [
        "train['Loan_Status'].value_counts().plot.bar()"
      ],
      "metadata": {
        "id": "IH1zmkS8Mgne"
      },
      "execution_count": null,
      "outputs": []
    },
    {
      "cell_type": "code",
      "source": [
        "train['Gender'].value_counts(normalize=True).plot.bar(title='Gender')"
      ],
      "metadata": {
        "id": "Zfc5lDKEMpdF"
      },
      "execution_count": null,
      "outputs": []
    },
    {
      "cell_type": "code",
      "source": [
        "train['Married'].value_counts(normalize=True).plot.bar(title='Married')"
      ],
      "metadata": {
        "id": "lyCLsvqTM1Gc"
      },
      "execution_count": null,
      "outputs": []
    },
    {
      "cell_type": "code",
      "source": [
        "train['Self_Employed'].value_counts(normalize=True).plot.bar(title='Self_employee')"
      ],
      "metadata": {
        "id": "jOFSEHD-NAzF"
      },
      "execution_count": null,
      "outputs": []
    },
    {
      "cell_type": "code",
      "source": [
        "train['Credit_History'].value_counts(normalize=True).plot.bar(title='Credit_History')"
      ],
      "metadata": {
        "id": "8EZGzJRJNba1"
      },
      "execution_count": null,
      "outputs": []
    },
    {
      "cell_type": "code",
      "source": [
        "train['Dependents'].value_counts(normalize=True).plot.bar(title='Dependents')"
      ],
      "metadata": {
        "id": "DJcWzDA3NgAV"
      },
      "execution_count": null,
      "outputs": []
    },
    {
      "cell_type": "code",
      "source": [
        "train['Education'].value_counts(normalize=True).plot.bar(title='Education')"
      ],
      "metadata": {
        "id": "hbhU-pKXNl0F"
      },
      "execution_count": null,
      "outputs": []
    },
    {
      "cell_type": "code",
      "source": [
        "train['Property_Area'].value_counts(normalize=True).plot.bar(title='Property_Area')"
      ],
      "metadata": {
        "id": "Gnn92gz3O76V"
      },
      "execution_count": null,
      "outputs": []
    },
    {
      "cell_type": "code",
      "source": [
        "train['ApplicantIncome'].value_counts(normalize=True).plot.bar(title='ApplicantIncome')"
      ],
      "metadata": {
        "id": "xwkIN7ehPDMN"
      },
      "execution_count": null,
      "outputs": []
    },
    {
      "cell_type": "code",
      "source": [
        "train['CoapplicantIncome'].plot.box()"
      ],
      "metadata": {
        "id": "TvSfHLE8PIsE"
      },
      "execution_count": null,
      "outputs": []
    },
    {
      "cell_type": "code",
      "source": [
        "train['LoanAmount'].plot.box()"
      ],
      "metadata": {
        "id": "nGY_Zfq0PRFM"
      },
      "execution_count": null,
      "outputs": []
    },
    {
      "cell_type": "code",
      "source": [
        "Gender=pd.crosstab(train['Gender'], train['Loan_Status'])\n",
        "Gender.div(Gender.sum(1).astype(float),axis = 0).plot(kind='bar',stacked=True,figsize=(4,4))"
      ],
      "metadata": {
        "id": "ADi2Q9_NPUNE"
      },
      "execution_count": null,
      "outputs": []
    },
    {
      "cell_type": "code",
      "source": [
        "matrix=train.corr()\n",
        "f,ax=plt.subplots(figsize=(9,6))\n",
        "sns.heatmap(matrix,vmax=0.8,square=True,cmap=\"BuPu\",annot=True)"
      ],
      "metadata": {
        "id": "bpLxGFowP2t1"
      },
      "execution_count": null,
      "outputs": []
    },
    {
      "cell_type": "code",
      "source": [
        "train.isnull().sum()"
      ],
      "metadata": {
        "id": "q3Ll-ySTQawl"
      },
      "execution_count": null,
      "outputs": []
    },
    {
      "cell_type": "code",
      "source": [
        "train['Gender'].fillna(train['Gender'].mode()[0],inplace=True)\n",
        "print(train['Gender'])"
      ],
      "metadata": {
        "id": "wucit4boQiY8"
      },
      "execution_count": null,
      "outputs": []
    },
    {
      "cell_type": "code",
      "source": [
        "train['Married'].fillna(train['Married'].mode()[0],inplace=True)\n",
        "print(train['Married'])"
      ],
      "metadata": {
        "id": "HfrkPkvURV89"
      },
      "execution_count": null,
      "outputs": []
    },
    {
      "cell_type": "code",
      "source": [
        "train['Dependents'].fillna(train['Dependents'].mode()[0],inplace=True)\n",
        "print(train['Dependents'])"
      ],
      "metadata": {
        "id": "Dl9ugNzWRZlM"
      },
      "execution_count": null,
      "outputs": []
    },
    {
      "cell_type": "code",
      "source": [
        "train['Self_Employed'].fillna(train['Self_Employed'].mode()[0],inplace=True)\n",
        "print(train['Self_Employed'])"
      ],
      "metadata": {
        "id": "er9DZtTsRdvs"
      },
      "execution_count": null,
      "outputs": []
    },
    {
      "cell_type": "code",
      "source": [
        "train['LoanAmount'].fillna(train['LoanAmount'].mode()[0],inplace=True)\n",
        "print(train['LoanAmount'])"
      ],
      "metadata": {
        "id": "a1XGMpRoRi7E"
      },
      "execution_count": null,
      "outputs": []
    },
    {
      "cell_type": "code",
      "source": [
        "train['Loan_Amount_Term'].fillna(train['Loan_Amount_Term'].mode()[0],inplace=True)\n",
        "print(train['Loan_Amount_Term'])"
      ],
      "metadata": {
        "id": "nriaMdKJTl0c"
      },
      "execution_count": null,
      "outputs": []
    },
    {
      "cell_type": "code",
      "source": [
        "train['Credit_History'].fillna(train['Credit_History'].mode()[0],inplace=True)\n",
        "print(train['Credit_History'])"
      ],
      "metadata": {
        "id": "74y7BLrETqPA"
      },
      "execution_count": null,
      "outputs": []
    },
    {
      "cell_type": "code",
      "source": [
        "train.isnull().sum()"
      ],
      "metadata": {
        "id": "GUqx_8j7TwRI"
      },
      "execution_count": null,
      "outputs": []
    },
    {
      "cell_type": "code",
      "source": [
        "X=train.drop('Loan_Status',1)\n",
        "X=X.drop('Loan_ID',axis=1)\n",
        "Y=train['Loan_Status']\n",
        "X=pd.get_dummies(X)\n",
        "print(X)\n",
        "print(Y)"
      ],
      "metadata": {
        "id": "BDbEjKMoTyt4"
      },
      "execution_count": null,
      "outputs": []
    },
    {
      "cell_type": "code",
      "source": [
        "from sklearn.linear_model import LogisticRegression\n",
        "model=LogisticRegression()\n",
        "clf = model.fit(X,Y)\n",
        "df = pd.read_csv('test.csv')\n",
        "print(df)"
      ],
      "metadata": {
        "id": "PsXs0NCOUZbz"
      },
      "execution_count": null,
      "outputs": []
    },
    {
      "cell_type": "code",
      "source": [
        "df.isnull().sum()"
      ],
      "metadata": {
        "id": "YkCzxPjVUudE"
      },
      "execution_count": null,
      "outputs": []
    },
    {
      "cell_type": "code",
      "source": [
        "df['Gender'].fillna(df['Gender'].mode()[0],inplace=True)\n",
        "df['Dependents'].fillna(df['Dependents'].mode()[0],inplace=True)\n",
        "df['Self_Employed'].fillna(df['Self_Employed'].mode()[0],inplace=True)\n",
        "df['LoanAmount'].fillna(df['LoanAmount'].mode()[0],inplace=True)\n",
        "df['Credit_History'].fillna(df['Credit_History'].mode()[0],inplace=True)"
      ],
      "metadata": {
        "id": "82zOsXyyUzJV"
      },
      "execution_count": null,
      "outputs": []
    },
    {
      "cell_type": "code",
      "source": [
        "df.isnull().sum()\n",
        "df['Loan_Amount_Term'].fillna(df['Loan_Amount_Term'].mean(),inplace=True)"
      ],
      "metadata": {
        "id": "OTcA2PNlVg3s"
      },
      "execution_count": null,
      "outputs": []
    },
    {
      "cell_type": "code",
      "source": [
        "df.isnull().sum()"
      ],
      "metadata": {
        "id": "pZdRuEwsWgD8"
      },
      "execution_count": null,
      "outputs": []
    },
    {
      "cell_type": "code",
      "source": [
        "df=df.drop('Loan_ID',axis=1)\n",
        "df=pd.get_dummies(df)\n",
        "print(X)\n",
        "print(df)"
      ],
      "metadata": {
        "id": "yc-ZNOl6WiaU"
      },
      "execution_count": null,
      "outputs": []
    },
    {
      "cell_type": "code",
      "source": [
        "clf.predict(df)"
      ],
      "metadata": {
        "id": "vfKVt490Wsyr"
      },
      "execution_count": null,
      "outputs": []
    }
  ]
}