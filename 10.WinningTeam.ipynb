{
  "cells": [
    {
      "cell_type": "code",
      "execution_count": 3,
      "metadata": {
        "id": "KBNU25_6P0nZ"
      },
      "outputs": [
        {
          "ename": "ModuleNotFoundError",
          "evalue": "No module named 'pandas'",
          "output_type": "error",
          "traceback": [
            "\u001b[1;31m---------------------------------------------------------------------------\u001b[0m",
            "\u001b[1;31mModuleNotFoundError\u001b[0m                       Traceback (most recent call last)",
            "Cell \u001b[1;32mIn[3], line 1\u001b[0m\n\u001b[1;32m----> 1\u001b[0m \u001b[38;5;28;01mimport\u001b[39;00m \u001b[38;5;21;01mpandas\u001b[39;00m \u001b[38;5;28;01mas\u001b[39;00m \u001b[38;5;21;01mpd\u001b[39;00m\n\u001b[0;32m      2\u001b[0m \u001b[38;5;28;01mimport\u001b[39;00m \u001b[38;5;21;01mnumpy\u001b[39;00m \u001b[38;5;28;01mas\u001b[39;00m \u001b[38;5;21;01mnp\u001b[39;00m\n\u001b[0;32m      3\u001b[0m \u001b[38;5;28;01mimport\u001b[39;00m \u001b[38;5;21;01mseaborn\u001b[39;00m \u001b[38;5;28;01mas\u001b[39;00m \u001b[38;5;21;01msns\u001b[39;00m\n",
            "\u001b[1;31mModuleNotFoundError\u001b[0m: No module named 'pandas'"
          ]
        }
      ],
      "source": [
        "import pandas as pd\n",
        "import numpy as np\n",
        "import seaborn as sns\n",
        "sns.set_style(\"whitegrid\")\n",
        "import matplotlib.pyplot as plt\n",
        "import sklearn"
      ]
    },
    {
      "cell_type": "code",
      "execution_count": null,
      "metadata": {
        "id": "bGQD6euRTtn2"
      },
      "outputs": [],
      "source": [
        "data = pd.read_csv(\"matches.csv\")"
      ]
    },
    {
      "cell_type": "code",
      "execution_count": null,
      "metadata": {
        "id": "RxPZ_CWlTy-b"
      },
      "outputs": [],
      "source": [
        "data.head()"
      ]
    },
    {
      "cell_type": "code",
      "execution_count": null,
      "metadata": {
        "id": "Ds7inKdLT0F8"
      },
      "outputs": [],
      "source": [
        "data.describe()"
      ]
    },
    {
      "cell_type": "code",
      "execution_count": 1,
      "metadata": {
        "id": "fij_p1WFT1ib"
      },
      "outputs": [
        {
          "ename": "NameError",
          "evalue": "name 'data' is not defined",
          "output_type": "error",
          "traceback": [
            "\u001b[1;31m---------------------------------------------------------------------------\u001b[0m",
            "\u001b[1;31mNameError\u001b[0m                                 Traceback (most recent call last)",
            "Cell \u001b[1;32mIn[1], line 1\u001b[0m\n\u001b[1;32m----> 1\u001b[0m \u001b[43mdata\u001b[49m\u001b[38;5;241m.\u001b[39misnull()\u001b[38;5;241m.\u001b[39msum()\n",
            "\u001b[1;31mNameError\u001b[0m: name 'data' is not defined"
          ]
        }
      ],
      "source": [
        "data.isnull().sum()"
      ]
    },
    {
      "cell_type": "code",
      "execution_count": null,
      "metadata": {
        "id": "i21P9-9JT9BE"
      },
      "outputs": [],
      "source": [
        "data = data.iloc[:,:-1]\n",
        "data.dropna(inplace=True)"
      ]
    },
    {
      "cell_type": "code",
      "execution_count": null,
      "metadata": {
        "id": "QONk3yeJU1ZC"
      },
      "outputs": [],
      "source": [
        "data['team1'].unique()"
      ]
    },
    {
      "cell_type": "code",
      "execution_count": null,
      "metadata": {
        "id": "vDLWBkpOWKgk"
      },
      "outputs": [],
      "source": [
        "data['team1'] = data['team1'].str.replace('Delhi Daredevils','Delhi Capitals')\n",
        "data['team2'] = data['team2'].str.replace('Delhi Daredevils','Delhi Capitals')\n",
        "data['winner'] = data['winner'].str.replace('Delhi Daredevils','Delhi Capitals')\n",
        "\n",
        "data['team1'] = data['team1'].str.replace('Deccan Chargers','Sunrisers Hyderabad')\n",
        "data['team2'] = data['team2'].str.replace('Deccan Chargers','Sunrisers Hyderabad')\n",
        "data['winner'] = data['winner'].str.replace('Deccan Chargers','Sunrisers Hyderabad')"
      ]
    },
    {
      "cell_type": "code",
      "execution_count": null,
      "metadata": {
        "id": "EcwXr5sqX3xE"
      },
      "outputs": [],
      "source": [
        "plt.figure(figsize = (10,6))\n",
        "sns.countplot(y='winner',data = data, order = data['winner'].value_counts().index)\n",
        "plt.xlabel('Wins')\n",
        "plt.ylabel('Team')\n",
        "plt.title('Number of IPL matches won by each team')"
      ]
    },
    {
      "cell_type": "code",
      "execution_count": null,
      "metadata": {
        "id": "qovYRVHcYnNM"
      },
      "outputs": [],
      "source": [
        "plt.figure(figsize = (10,6))\n",
        "sns.countplot(y='venue',data = data, order = data['venue'].value_counts().iloc[:10].index)\n",
        "plt.xlabel('No of matches',fontsize=12)\n",
        "plt.ylabel('Venue',fontsize=12)\n",
        "plt.title('Total Number of matches played in different stadium')"
      ]
    },
    {
      "cell_type": "code",
      "execution_count": null,
      "metadata": {
        "id": "bRbrSawKZQl0"
      },
      "outputs": [],
      "source": [
        "plt.figure(figsize = (10,6))\n",
        "sns.countplot(x='toss_decision',data=data)\n",
        "plt.xlabel('Toss Decision',fontsize=12)\n",
        "plt.ylabel('Count',fontsize=12)\n",
        "plt.title('Toss Decision')"
      ]
    },
    {
      "cell_type": "code",
      "execution_count": null,
      "metadata": {
        "id": "7tOtTz1bZ-a8"
      },
      "outputs": [],
      "source": [
        "x = [\"city\",\"toss_decision\",\"result\",\"dl_applied\"]\n",
        "for i in x:\n",
        "  print(\"-----------------------\")\n",
        "  print(data[i].unique())\n",
        "  print(data[i].value_counts())"
      ]
    },
    {
      "cell_type": "code",
      "execution_count": null,
      "metadata": {
        "id": "D2YxXr1qaptk"
      },
      "outputs": [],
      "source": [
        "data.drop([\"id\",\"season\",\"city\",\"date\",\"player_of_match\",\"umpire1\",\"venue\",\"umpire2\"],axis=1,inplace=True)"
      ]
    },
    {
      "cell_type": "code",
      "execution_count": null,
      "metadata": {
        "id": "hjocnnApa9u7"
      },
      "outputs": [],
      "source": [
        "X = data.drop(['winner'],axis=1)\n",
        "y = data['winner']"
      ]
    },
    {
      "cell_type": "code",
      "execution_count": null,
      "metadata": {
        "id": "dcEU5eelbaRT"
      },
      "outputs": [],
      "source": [
        "X = pd.get_dummies(X,[\"team1\",\"team2\",\"toss_winner\",\"toss_decision\",\"result\"],drop_first = True)"
      ]
    },
    {
      "cell_type": "code",
      "execution_count": null,
      "metadata": {
        "id": "9Yyr2UKpbojb"
      },
      "outputs": [],
      "source": [
        "from sklearn.preprocessing import LabelEncoder\n",
        "le = LabelEncoder()\n",
        "y = le.fit_transform(y)"
      ]
    },
    {
      "cell_type": "code",
      "execution_count": null,
      "metadata": {
        "id": "YF5s805PbyHT"
      },
      "outputs": [],
      "source": [
        "from sklearn.model_selection import train_test_split\n",
        "x_train, x_test, y_train, y_test = train_test_split(X, y, train_size = 0.8)"
      ]
    },
    {
      "cell_type": "code",
      "execution_count": null,
      "metadata": {
        "id": "GmjmJxsDb-4S"
      },
      "outputs": [],
      "source": [
        "from sklearn.ensemble import RandomForestClassifier\n",
        "model = RandomForestClassifier(n_estimators = 200, min_samples_split=3,max_features = \"auto\")"
      ]
    },
    {
      "cell_type": "code",
      "execution_count": null,
      "metadata": {
        "id": "silf0thOcVyD"
      },
      "outputs": [],
      "source": [
        "model.fit(x_train, y_train)"
      ]
    },
    {
      "cell_type": "code",
      "execution_count": null,
      "metadata": {
        "id": "gr-bLMuJd0K7"
      },
      "outputs": [],
      "source": [
        "y_pred = model.predict(x_test)"
      ]
    },
    {
      "cell_type": "code",
      "execution_count": null,
      "metadata": {
        "id": "bnlwg57Jd30r"
      },
      "outputs": [],
      "source": [
        "from sklearn.metrics import accuracy_score\n",
        "ac = accuracy_score(y_pred, y_test)\n",
        "ac"
      ]
    }
  ],
  "metadata": {
    "colab": {
      "provenance": []
    },
    "kernelspec": {
      "display_name": "Python 3",
      "name": "python3"
    },
    "language_info": {
      "codemirror_mode": {
        "name": "ipython",
        "version": 3
      },
      "file_extension": ".py",
      "mimetype": "text/x-python",
      "name": "python",
      "nbconvert_exporter": "python",
      "pygments_lexer": "ipython3",
      "version": "3.11.5"
    }
  },
  "nbformat": 4,
  "nbformat_minor": 0
}
