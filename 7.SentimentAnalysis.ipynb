{
  "nbformat": 4,
  "nbformat_minor": 0,
  "metadata": {
    "colab": {
      "provenance": [],
      "authorship_tag": "ABX9TyMQeg4+D9guKKugEbfKZzaP"
    },
    "kernelspec": {
      "name": "python3",
      "display_name": "Python 3"
    },
    "language_info": {
      "name": "python"
    }
  },
  "cells": [
    {
      "cell_type": "code",
      "execution_count": null,
      "metadata": {
        "id": "4CxpQu56FcCR"
      },
      "outputs": [],
      "source": [
        "import tweepy\n",
        "import pandas as pd\n",
        "import numpy as np\n",
        "from IPython.display import display\n",
        "import matplotlib.pyplot as plt\n",
        "import seaborn as sns\n",
        "%matplotlib inline"
      ]
    },
    {
      "cell_type": "code",
      "source": [
        "def twitter_setup():\n",
        "  auth = tweepy.OAuthHandler(\"API Key\", \"API Secret\")\n",
        "  auth.set_access_token(\"Access Key\", \"Access Token\")\n",
        "  api=tweepy.API(auth)\n",
        "  return api"
      ],
      "metadata": {
        "id": "Qk-9bDobFwS9"
      },
      "execution_count": null,
      "outputs": []
    },
    {
      "cell_type": "code",
      "source": [
        "extractor = twitter_setup()\n",
        "tweets = extractor.user_timeline(screen_name=\"Username of Twitter Account\",count=200)\n",
        "print(\"Number of tweets extracted: {}.\\n\".format(len(tweets)))\n",
        "print(\"13 recent tweets:\\n\")\n",
        "for tweet in tweets[:13]:\n",
        "  print(tweet.text)\n",
        "  print()"
      ],
      "metadata": {
        "id": "Ai1wvEGtHjrE"
      },
      "execution_count": null,
      "outputs": []
    },
    {
      "cell_type": "code",
      "source": [
        "data = pd.DataFrame(data=[tweet.text for tweet in tweets],columns=['Tweets'])\n",
        "display(data.head(5))"
      ],
      "metadata": {
        "id": "SZQp6Z3uIUGc"
      },
      "execution_count": null,
      "outputs": []
    },
    {
      "cell_type": "code",
      "source": [
        "print(tweets[0].id)\n",
        "print(tweets[0].created_at)\n",
        "print(tweets[0].source)\n",
        "print(tweets[0].favourite_count)\n",
        "print(tweets[0].retweet_count)\n",
        "print(tweets[0].geo)\n",
        "print(tweets[0].coordinates)\n",
        "print(tweets[0].entities)"
      ],
      "metadata": {
        "id": "-uhhKwA1If_T"
      },
      "execution_count": null,
      "outputs": []
    },
    {
      "cell_type": "code",
      "source": [
        "data['len'] = np.array([len(tweet.text) for tweet in tweets])\n",
        "data['ID'] = np.array([tweet.id for tweet in tweets])\n",
        "data['Date'] = np.array([tweet.created for tweet in tweets])\n",
        "data['Source'] = np.array([tweet.cource for tweet in tweets])\n",
        "data['Likes'] = np.array([tweet.favourite_count for tweet in tweets])\n",
        "data['RTS'] = np.array([tweet.retweet_count for tweet in tweets])"
      ],
      "metadata": {
        "id": "5dWhj5x3Ka6L"
      },
      "execution_count": null,
      "outputs": []
    },
    {
      "cell_type": "code",
      "source": [
        "display(data.head(10))"
      ],
      "metadata": {
        "id": "K-VB9z1qLSXF"
      },
      "execution_count": null,
      "outputs": []
    },
    {
      "cell_type": "code",
      "source": [
        "mean=np.mean(data['len'])\n",
        "print(\"The length's average in tweets: {}\".format(mean))"
      ],
      "metadata": {
        "id": "U_RpnJvRLVwD"
      },
      "execution_count": null,
      "outputs": []
    },
    {
      "cell_type": "code",
      "source": [
        "fav_max = np.max(data['Likes'])\n",
        "rt_max = np.max(data['RTs'])\n",
        "fav= data[data.Likes == fav_max].index[0]\n",
        "rt = data[data.RTs == rt_max].index[0]\n",
        "\n",
        "print(\"The tweet with more likes is: \\n{}\".format(data['Tweets'][fav]))\n",
        "print(\"Number of likes: {}\".format(fav_max))\n",
        "print(\"{} characters.\\n\".format(data['len'][fav]))\n",
        "\n",
        "print(\"The tweet with more retweets is: \\n{}\".format(data['Tweets'][rt]))\n",
        "print(\"Number of retweets: {}\".format(rt_max))\n",
        "print(\"{} characters.\\n\".format(data['len'][rt]))"
      ],
      "metadata": {
        "id": "0FFL7ZECMN9B"
      },
      "execution_count": null,
      "outputs": []
    },
    {
      "cell_type": "code",
      "source": [],
      "metadata": {
        "id": "WA54zmjQSWG1"
      },
      "execution_count": null,
      "outputs": []
    },
    {
      "cell_type": "code",
      "source": [
        "tlen = pd.Series(data=data['len'].values, index = data['Date'])\n",
        "tfav = pd.Series(data=data['Likes'].values, index = data['Date'])\n",
        "tret = pd.Series(data=data['RTs'].values, index = data['Date'])"
      ],
      "metadata": {
        "id": "n_GnlseINXne"
      },
      "execution_count": null,
      "outputs": []
    },
    {
      "cell_type": "code",
      "source": [
        "tlen.plot(figsize=(16,4),color='r')"
      ],
      "metadata": {
        "id": "TP4mIj53N6dE"
      },
      "execution_count": null,
      "outputs": []
    },
    {
      "cell_type": "code",
      "source": [
        "tfav.plot(figsize=(16,4),label='Likes',legend=True)\n",
        "tret.plot(figsize=(16,4),label='Retweets',legend=True)"
      ],
      "metadata": {
        "id": "deuDTXHUN_A6"
      },
      "execution_count": null,
      "outputs": []
    },
    {
      "cell_type": "code",
      "source": [
        "sources = []\n",
        "for source in data['Source']:\n",
        "  if source not in sources:\n",
        "    sources.append(source)\n",
        "print(\"Creation of content sources:\")\n",
        "for source in sources:\n",
        "  print(\"* {}\".format(source))"
      ],
      "metadata": {
        "id": "oyXPP3TAOpYE"
      },
      "execution_count": null,
      "outputs": []
    },
    {
      "cell_type": "code",
      "source": [
        "percent = np.zeros(len(sources))\n",
        "for source in data['source']:\n",
        "  for index in range(len(sources)):\n",
        "    if source == sources[index]:\n",
        "      percent[index] +=1\n",
        "      pass\n",
        "percent /= 100\n",
        "\n",
        "pie_chart.pd.Series(percent, index=sources, name='Sources')\n",
        "pie_chart.plot.pie(fontsize=11, autopct='%.2f', figsize=(6,6))"
      ],
      "metadata": {
        "id": "o0vKxF8QPNMy"
      },
      "execution_count": null,
      "outputs": []
    },
    {
      "cell_type": "code",
      "source": [
        "from textblob import TextBlob\n",
        "import re\n",
        "\n",
        "def clean_tweet(tweet):\n",
        "  return ' '.join(re.sub(\"(@[A-Za-z0-9]+)|([^0-9A-Za-z \\t])|(\\w+:\\/\\/\\S+)\", \" \", tweet).s)\n",
        "def analyze_sentiment(tweet):\n",
        "  analysis = TextBlob(clean_tweet(tweet))\n",
        "  if analysis.sentiment.polarity >0:\n",
        "    return 1\n",
        "  elif analysis.sentiment.polarity == 0:\n",
        "    return 0\n",
        "  else:\n",
        "    return -1"
      ],
      "metadata": {
        "id": "JKQkGL6hPxM7"
      },
      "execution_count": null,
      "outputs": []
    },
    {
      "cell_type": "code",
      "source": [
        "data['SA'] = np.array([analyze_sentiment(tweet) for tweet in data['Tweets']])\n",
        "display(data.head(10))"
      ],
      "metadata": {
        "id": "MasMXdm7RaWr"
      },
      "execution_count": null,
      "outputs": []
    },
    {
      "cell_type": "code",
      "source": [
        "pos_tweets = [tweet for index, tweet in enumerate(data['Tweets']) if data['SA'][index]>0]\n",
        "neu_tweets = [tweet for index, tweet in enumerate(data['Tweets']) if data['SA'][index]==0]\n",
        "neg_tweets = [tweet for index, tweet in enumerate(data['Tweets']) if data['SA'][index]<0]\n",
        "print(pos_tweets, neu_tweets, neg_tweets)"
      ],
      "metadata": {
        "id": "tP0uPDl1SXra"
      },
      "execution_count": null,
      "outputs": []
    },
    {
      "cell_type": "code",
      "source": [
        "print(\"Percentage of positive tweets: {}%\".format(len(pos_tweets)*100/len(data['Tweets'])))\n",
        "print(\"Percentage of neutral tweets: {}%\".format(len(neu_tweets)*100/len(data['Tweets'])))\n",
        "print(\"Percentage of negative tweets: {}%\".format(len(neg_tweets)*100/len(data['Tweets'])))"
      ],
      "metadata": {
        "id": "R_dTl_nSSnyZ"
      },
      "execution_count": null,
      "outputs": []
    }
  ]
}